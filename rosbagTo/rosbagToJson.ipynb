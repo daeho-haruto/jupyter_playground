{
 "cells": [
  {
   "cell_type": "code",
   "execution_count": 2,
   "id": "63b4ac63",
   "metadata": {},
   "outputs": [],
   "source": [
    "from rosbags.rosbag2 import Reader\n",
    "from rosbags.serde import deserialize_cdr"
   ]
  },
  {
   "cell_type": "code",
   "execution_count": 75,
   "id": "866c0e6c",
   "metadata": {},
   "outputs": [],
   "source": [
    "class odom:\n",
    "    def __init__(self, x, y, z, sec, nanosec):\n",
    "        self.x = x\n",
    "        self.y = y\n",
    "        self.z = z\n",
    "        self.sec = sec\n",
    "        self.nanosec = nanosec"
   ]
  },
  {
   "cell_type": "code",
   "execution_count": 76,
   "id": "97fd074e",
   "metadata": {},
   "outputs": [],
   "source": [
    "class cmdvel:\n",
    "    def __init__(self, x, z):\n",
    "        self.x = x\n",
    "        self.z = z"
   ]
  },
  {
   "cell_type": "code",
   "execution_count": 77,
   "id": "6e8c6e13",
   "metadata": {},
   "outputs": [],
   "source": [
    "with Reader('../rosbag2_2023_02_01-17_05_01/') as reader:\n",
    "#     for connection in reader.connections:\n",
    "#         print(connection.topic, connection.msgtype)\n",
    "    odom_list = []\n",
    "    cmdvel_list = []\n",
    "\n",
    "    for connection, timestamp, rawdata in reader.messages():\n",
    "        if connection.topic == '/odom':\n",
    "            msg = deserialize_cdr(rawdata, connection.msgtype)\n",
    "            odom_data = odom(\n",
    "                msg.pose.pose.position.x,\n",
    "                msg.pose.pose.position.y,\n",
    "                msg.twist.twist.angular.z, \n",
    "                msg.header.stamp.sec, \n",
    "                msg.header.stamp.nanosec)\n",
    "            odom_list.append(odom_data)\n",
    "        if connection.topic == '/cmd_vel':\n",
    "            msg = deserialize_cdr(rawdata, connection.msgtype)\n",
    "            cmdvel_data = cmdvel(msg.linear.x, msg.angular.z)\n",
    "            cmdvel_list.append(cmdvel_data)"
   ]
  },
  {
   "cell_type": "code",
   "execution_count": null,
   "id": "e1788d3a",
   "metadata": {},
   "outputs": [],
   "source": [
    "for odom in odom_list:\n",
    "    print(odom.x, odom.y, odom.z, odom.sec, odom.nanosec)"
   ]
  },
  {
   "cell_type": "code",
   "execution_count": null,
   "id": "0cc9e696",
   "metadata": {},
   "outputs": [],
   "source": [
    "for cmdvel in cmdvel_list:\n",
    "    print(cmdvel.x, cmdvel.z)"
   ]
  },
  {
   "cell_type": "code",
   "execution_count": 79,
   "id": "f6c011a6",
   "metadata": {},
   "outputs": [],
   "source": [
    "import json"
   ]
  },
  {
   "cell_type": "code",
   "execution_count": 85,
   "id": "95b1218a",
   "metadata": {},
   "outputs": [],
   "source": [
    "def toJSON(self):\n",
    "    return json.dumps(self,default=lambda o:o.__dict__,sort_keys=True)"
   ]
  },
  {
   "cell_type": "code",
   "execution_count": 125,
   "id": "97c808d2",
   "metadata": {},
   "outputs": [],
   "source": [
    "from datetime import datetime"
   ]
  },
  {
   "cell_type": "code",
   "execution_count": 129,
   "id": "82dedbff",
   "metadata": {},
   "outputs": [],
   "source": [
    "directory_name = 'data_' + datetime.today().strftime(\"%Y_%m_%d-%H_%M_%S\") \n",
    "odom_file_name = 'odom_' + datetime.today().strftime(\"%Y_%m_%d-%H_%M_%S\")\n",
    "cmdvel_file_name = 'cmdvel_' + datetime.today().strftime(\"%Y_%m_%d-%H_%M_%S\")"
   ]
  },
  {
   "cell_type": "code",
   "execution_count": 130,
   "id": "87b87952",
   "metadata": {},
   "outputs": [],
   "source": [
    "create_directory_path = '/home/jack/'"
   ]
  },
  {
   "cell_type": "code",
   "execution_count": 131,
   "id": "9e5e33f5",
   "metadata": {},
   "outputs": [
    {
     "name": "stdout",
     "output_type": "stream",
     "text": [
      "created\n"
     ]
    }
   ],
   "source": [
    "import os\n",
    " \n",
    "def createFolder(directory):\n",
    "    try:\n",
    "        if not os.path.exists(directory):\n",
    "            os.makedirs(directory)\n",
    "            odom_file = open(create_directory_path+directory_name+'/'+odom_file_name+'.json', 'w', encoding=\"UTF8\")\n",
    "            odom_file.write(toJSON(odom_list))\n",
    "            odom_file.close()\n",
    "            cmdvel_file = open(create_directory_path+directory_name+'/'+cmdvel_file_name+'.json', 'w', encoding=\"UTF8\")\n",
    "            cmdvel_file.write(toJSON(cmdvel_list))\n",
    "            cmdvel_file.close()\n",
    "            print('created')\n",
    "    except OSError:\n",
    "        print ('Error: Creating directory. ' +  directory)\n",
    " \n",
    "createFolder(create_directory_path + directory_name)"
   ]
  }
 ],
 "metadata": {
  "kernelspec": {
   "display_name": "Python 3 (ipykernel)",
   "language": "python",
   "name": "python3"
  },
  "language_info": {
   "codemirror_mode": {
    "name": "ipython",
    "version": 3
   },
   "file_extension": ".py",
   "mimetype": "text/x-python",
   "name": "python",
   "nbconvert_exporter": "python",
   "pygments_lexer": "ipython3",
   "version": "3.10.6"
  }
 },
 "nbformat": 4,
 "nbformat_minor": 5
}
